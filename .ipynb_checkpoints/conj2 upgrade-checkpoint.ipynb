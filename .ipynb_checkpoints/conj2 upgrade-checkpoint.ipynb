{
 "cells": [
  {
   "cell_type": "code",
   "execution_count": 26,
   "metadata": {},
   "outputs": [],
   "source": [
    "var(\"t,q\")\n",
    "R.<z> = PowerSeriesRing(SR)\n",
    "\n",
    "def S(order):\n",
    "    return sum((\n",
    "        z^n*sum(( \n",
    "                t^(sum((mu.leg_length(*c) for c in mu.cells())))\n",
    "               *q^(sum((mu.arm_length(*c) for c in mu.cells())))/\n",
    "                prod((\n",
    "                    (q^mu.arm_length(*c) - t^(mu.leg_length(*c)+1))*(t^mu.leg_length(*c)-q^(mu.arm_length(*c)+1))\n",
    "                for c in mu.cells()))\n",
    "            for mu in Partitions(n)))\n",
    "    for n in range(order+1))).add_bigoh(order+1)\n",
    "\n",
    "def S2(order):\n",
    "    return sum((\n",
    "        z^n/n/(1-q^n)/(1-t^n)\n",
    "    for n in range(1,order+1))).add_bigoh(order+1).exp()\n",
    "\n",
    "def check(order):\n",
    "    dif = S(order) - S2(order)\n",
    "    for n in range(order+1):\n",
    "        print (n, \"**\", dif[n].simplify_full())\n",
    "        \n",
    "        "
   ]
  },
  {
   "cell_type": "code",
   "execution_count": 29,
   "metadata": {},
   "outputs": [
    {
     "name": "stdout",
     "output_type": "stream",
     "text": [
      "0 ** 0\n",
      "1 ** 0\n",
      "2 ** 0\n",
      "3 ** 0\n",
      "4 ** 0\n",
      "5 ** 0\n",
      "6 ** 0\n",
      "7 ** 0\n",
      "8 ** 0\n",
      "9 ** 0\n",
      "10 ** 0\n"
     ]
    }
   ],
   "source": [
    "check(10)"
   ]
  },
  {
   "cell_type": "code",
   "execution_count": null,
   "metadata": {},
   "outputs": [],
   "source": []
  }
 ],
 "metadata": {
  "kernelspec": {
   "display_name": "SageMath 9.1",
   "language": "sage",
   "name": "sagemath"
  },
  "language_info": {
   "codemirror_mode": {
    "name": "ipython",
    "version": 3
   },
   "file_extension": ".py",
   "mimetype": "text/x-python",
   "name": "python",
   "nbconvert_exporter": "python",
   "pygments_lexer": "ipython3",
   "version": "3.7.3"
  }
 },
 "nbformat": 4,
 "nbformat_minor": 2
}
