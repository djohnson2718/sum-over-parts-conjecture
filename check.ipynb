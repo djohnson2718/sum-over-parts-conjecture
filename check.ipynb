{
 "cells": [
  {
   "cell_type": "code",
   "execution_count": 1,
   "metadata": {},
   "outputs": [],
   "source": [
    "def TwoPartitions(n):\n",
    "    \"\"\"\n",
    "    Iterates over all \"level 2\" paritions of n, that is, a parition of n together with partiions of its parts.\n",
    "    \"\"\"\n",
    "    for P in Partitions(n):\n",
    "        for o2p in cartesian_product([Partitions(pi) for pi in P]):\n",
    "            yield o2p\n",
    "            \n",
    "def auts(P):\n",
    "    \"\"\"\n",
    "    The automorphims of the partition, defined as the product of the factorials of the multiplitices of the parts.\n",
    "    \"\"\"\n",
    "    p = Partition([sum(Pi) for Pi in P])\n",
    "    return prod((factorial(m) for m in p.to_exp()))\n",
    "            \n",
    "var(\"X,t1,t2\")\n",
    "\n",
    "def T1(lam,box):\n",
    "    return (lam.leg_length(*box) + 1)*t1 - lam.arm_length(*box)*t2\n",
    "\n",
    "def T2(lam,box):\n",
    "    return -lam.leg_length(*box)*t1 + (lam.arm_length(*box)+1)*t2\n",
    "\n",
    "\n",
    "def F(phi,psi, gamma, n ,k):\n",
    "    return (\n",
    "        sum((\n",
    "            (-1)^len(P)*factorial(len(P)-1)/auts(P) *\n",
    "            sum((\n",
    "                sum((\n",
    "                    phi.subs({X:X*(box[0]*t1 + box[1]*t2)})\n",
    "                for box in lam.cells()))\n",
    "            for lam in P))^k *\n",
    "            prod((\n",
    "                prod((\n",
    "                    psi.subs({X:X*(box[0]*t1 + box[1]*t2)})/gamma.subs({X:T1(lam,box)*X})/gamma.subs({X:T2(lam,box)*X})\n",
    "                for box in lam.cells()))\n",
    "            for lam in P))\n",
    "        for P in TwoPartitions(n)))\n",
    "    )\n",
    "\n",
    "def check_conj(phi,psi,gamma,up_to,k):\n",
    "    for n in range(1,up_to+1):\n",
    "        Fn = F(phi,psi,gamma, n, k)\n",
    "        ss= (Fn/X).residue(X)\n",
    "        print(\" n=\",n)\n",
    "        print(\" *\", ss.simplify_full())"
   ]
  },
  {
   "cell_type": "code",
   "execution_count": 11,
   "metadata": {},
   "outputs": [
    {
     "name": "stdout",
     "output_type": "stream",
     "text": [
      " n= 1\n",
      " * -1\n",
      " n= 2\n",
      " * -1/24*(73*t1^2 + 101*t1*t2 + 73*t2^2)/(t1*t2)\n",
      " n= 3\n",
      " * 1/240*(2993*t1^2 + 12946*t1*t2 + 2993*t2^2)/(t1*t2)\n",
      " n= 4\n",
      " * 1/5040*(872023*t1^2 + 1499816*t1*t2 + 872023*t2^2)/(t1*t2)\n",
      " n= 5\n",
      " * -1/145152*(26927195*t1^2 + 155116054*t1*t2 + 26927195*t2^2)/(t1*t2)\n"
     ]
    }
   ],
   "source": [
    "check_conj(1+X,exp(X),X/(1+X),5,1)"
   ]
  },
  {
   "cell_type": "code",
   "execution_count": 2,
   "metadata": {},
   "outputs": [
    {
     "name": "stdout",
     "output_type": "stream",
     "text": [
      " n= 1\n",
      " * -1\n",
      " n= 2\n",
      " * -1/6*(81*t1^2 - 77*t1*t2 + 81*t2^2)/(t1*t2)\n",
      " n= 3\n",
      " * 1/48*(30555*t1^2 + 76406*t1*t2 + 30555*t2^2)/(t1*t2)\n",
      " n= 4\n",
      " * 1/1260*(6282887*t1^2 + 5436064*t1*t2 + 6282887*t2^2)/(t1*t2)\n",
      " n= 5\n",
      " * -1/725760*(49473285581*t1^2 + 118297681402*t1*t2 + 49473285581*t2^2)/(t1*t2)\n"
     ]
    }
   ],
   "source": [
    "check_conj(1+X,exp(X),X/(1+X),5,3)"
   ]
  },
  {
   "cell_type": "code",
   "execution_count": 3,
   "metadata": {},
   "outputs": [
    {
     "name": "stdout",
     "output_type": "stream",
     "text": [
      " n= 1\n",
      " * 0\n",
      " n= 2\n",
      " * 1/2*(t1^2 + t1*t2 + t2^2)/(t1*t2)\n",
      " n= 3\n",
      " * 0\n",
      " n= 4\n",
      " * 0\n",
      " n= 5\n",
      " * 0\n",
      " n= 6\n",
      " * 0\n"
     ]
    }
   ],
   "source": [
    "check_conj(X^4,1,X,6,1)"
   ]
  },
  {
   "cell_type": "code",
   "execution_count": 4,
   "metadata": {},
   "outputs": [
    {
     "name": "stdout",
     "output_type": "stream",
     "text": [
      " n= 1\n",
      " * 0\n",
      " n= 2\n",
      " * 0\n",
      " n= 3\n",
      " * -2/3*(7*t1^2 + 9*t1*t2 + 7*t2^2)/(t1*t2)\n",
      " n= 4\n",
      " * 0\n",
      " n= 5\n",
      " * 0\n",
      " n= 6\n",
      " * 0\n"
     ]
    }
   ],
   "source": [
    "check_conj(X^6,1,X,6,1)"
   ]
  },
  {
   "cell_type": "code",
   "execution_count": 17,
   "metadata": {},
   "outputs": [
    {
     "name": "stdout",
     "output_type": "stream",
     "text": [
      " n= 1\n",
      " * -(t1^2 + t1*t2 + t2^2)/(t1*t2)\n",
      " n= 2\n",
      " * 12*(3*t1^2 + 4*t1*t2 + 3*t2^2)/(t1*t2)\n",
      " n= 3\n",
      " * -(1145*t1^2 + 1654*t1*t2 + 1145*t2^2)/(t1*t2)\n",
      " n= 4\n",
      " * 4*(8690*t1^2 + 13069*t1*t2 + 8690*t2^2)/(t1*t2)\n"
     ]
    }
   ],
   "source": [
    "check_conj(1, 1/(1+X), X+X^2, 4, 1)"
   ]
  },
  {
   "cell_type": "code",
   "execution_count": 6,
   "metadata": {},
   "outputs": [
    {
     "name": "stdout",
     "output_type": "stream",
     "text": [
      " n= 1\n",
      " * -1/6*(t1^2 + t2^2)/(t1*t2)\n",
      " n= 2\n",
      " * 1/6*(5*t1^2 + t1*t2 + 5*t2^2)/(t1*t2)\n",
      " n= 3\n",
      " * -1/270*(1199*t1^2 + 468*t1*t2 + 1199*t2^2)/(t1*t2)\n",
      " n= 4\n",
      " * 1/3780*(95057*t1^2 + 50289*t1*t2 + 95057*t2^2)/(t1*t2)\n"
     ]
    }
   ],
   "source": [
    "check_conj(1, 1+X^2, sin(X),4,0)"
   ]
  },
  {
   "cell_type": "code",
   "execution_count": 7,
   "metadata": {},
   "outputs": [
    {
     "name": "stdout",
     "output_type": "stream",
     "text": [
      " n= 1\n",
      " * -1/6*(t1^2 + t2^2)/(t1*t2)\n",
      " n= 2\n",
      " * 1/6*(71*t1^2 + 45*t1*t2 + 71*t2^2)/(t1*t2)\n",
      " n= 3\n",
      " * -1/90*(26177*t1^2 + 25964*t1*t2 + 26177*t2^2)/(t1*t2)\n"
     ]
    }
   ],
   "source": [
    "check_conj(1/(1-X), 1+X^2, sin(X),3,2)"
   ]
  },
  {
   "cell_type": "code",
   "execution_count": 8,
   "metadata": {},
   "outputs": [
    {
     "name": "stdout",
     "output_type": "stream",
     "text": [
      " n= 1\n",
      " * 0\n",
      " n= 2\n",
      " * -1/161280*(t1^6 + t2^6)/(t1^4*t2^2 - 2*t1^3*t2^3 + t1^2*t2^4)\n",
      " n= 3\n",
      " * -1/479001600*(15*t1^12 + 14797*t1^11*t2 - 58944*t1^10*t2^2 + 59169*t1^9*t2^3 + 22*t1^8*t2^4 - 165*t1^7*t2^5 - 264*t1^6*t2^6 - 165*t1^5*t2^7 + 22*t1^4*t2^8 + 59169*t1^3*t2^9 - 58944*t1^2*t2^10 + 14797*t1*t2^11 + 15*t2^12)/(4*t1^9*t2^3 - 28*t1^8*t2^4 + 77*t1^7*t2^5 - 106*t1^6*t2^6 + 77*t1^5*t2^7 - 28*t1^4*t2^8 + 4*t1^3*t2^9)\n",
      " n= 4\n",
      " * 1/167382319104000*(684*t1^22 + 273900*t1^21*t2 - 612449831*t1^20*t2^2 - 33632279222*t1^19*t2^3 + 451981861489*t1^18*t2^4 - 2246819705124*t1^17*t2^5 + 5624269107600*t1^16*t2^6 - 7545161652064*t1^15*t2^7 + 5163730708476*t1^14*t2^8 - 1422077762856*t1^13*t2^9 - 12042633346*t1^12*t2^10 - 10809498388*t1^11*t2^11 - 12042633346*t1^10*t2^12 - 1422077762856*t1^9*t2^13 + 5163730708476*t1^8*t2^14 - 7545161652064*t1^7*t2^15 + 5624269107600*t1^6*t2^16 - 2246819705124*t1^5*t2^17 + 451981861489*t1^4*t2^18 - 33632279222*t1^3*t2^19 - 612449831*t1^2*t2^20 + 273900*t1*t2^21 + 684*t2^22)/(36*t1^17*t2^5 - 564*t1^16*t2^6 + 3865*t1^15*t2^7 - 15300*t1^14*t2^8 + 38936*t1^13*t2^9 - 67080*t1^12*t2^10 + 80214*t1^11*t2^11 - 67080*t1^10*t2^12 + 38936*t1^9*t2^13 - 15300*t1^8*t2^14 + 3865*t1^7*t2^15 - 564*t1^6*t2^16 + 36*t1^5*t2^17)\n",
      " n= 5\n",
      " * -1/58389648196239360000*(953856*t1^34 - 55427328*t1^33*t2 - 50421030303456*t1^32*t2^2 + 1709405053966656*t1^31*t2^3 + 389619430619116516*t1^30*t2^4 - 3023465184603794608*t1^29*t2^5 - 56964553978991806801*t1^28*t2^6 + 1076079708719242873618*t1^27*t2^7 - 8228990139830493830403*t1^26*t2^8 + 37401110732161535001156*t1^25*t2^9 - 112441799422885736610703*t1^24*t2^10 + 233565664448170525157986*t1^23*t2^11 - 340490244835491494317493*t1^22*t2^12 + 347258522079065277916376*t1^21*t2^13 - 242401522872596921185662*t1^20*t2^14 + 110213209696135774826604*t1^19*t2^15 - 29344792892053995922926*t1^18*t2^16 + 6915377680576011144936*t1^17*t2^17 - 29344792892053995922926*t1^16*t2^18 + 110213209696135774826604*t1^15*t2^19 - 242401522872596921185662*t1^14*t2^20 + 347258522079065277916376*t1^13*t2^21 - 340490244835491494317493*t1^12*t2^22 + 233565664448170525157986*t1^11*t2^23 - 112441799422885736610703*t1^10*t2^24 + 37401110732161535001156*t1^9*t2^25 - 8228990139830493830403*t1^8*t2^26 + 1076079708719242873618*t1^7*t2^27 - 56964553978991806801*t1^6*t2^28 - 3023465184603794608*t1^5*t2^29 + 389619430619116516*t1^4*t2^30 + 1709405053966656*t1^3*t2^31 - 50421030303456*t1^2*t2^32 - 55427328*t1*t2^33 + 953856*t2^34)/(20736*t1^27*t2^7 - 590976*t1^26*t2^8 + 7713936*t1^25*t2^9 - 61289856*t1^24*t2^10 + 332343592*t1^23*t2^11 - 1307116216*t1^22*t2^12 + 3868608281*t1^21*t2^13 - 8822502456*t1^20*t2^14 + 15745533172*t1^19*t2^15 - 22208500496*t1^18*t2^16 + 24891560566*t1^17*t2^17 - 22208500496*t1^16*t2^18 + 15745533172*t1^15*t2^19 - 8822502456*t1^14*t2^20 + 3868608281*t1^13*t2^21 - 1307116216*t1^12*t2^22 + 332343592*t1^11*t2^23 - 61289856*t1^10*t2^24 + 7713936*t1^9*t2^25 - 590976*t1^8*t2^26 + 20736*t1^7*t2^27)\n"
     ]
    }
   ],
   "source": [
    "#not true if gamma has valuation 2\n",
    "check_conj(1,exp(X),X^2,5,0)"
   ]
  },
  {
   "cell_type": "code",
   "execution_count": null,
   "metadata": {},
   "outputs": [],
   "source": []
  }
 ],
 "metadata": {
  "kernelspec": {
   "display_name": "SageMath 9.1",
   "language": "sage",
   "name": "sagemath"
  },
  "language_info": {
   "codemirror_mode": {
    "name": "ipython",
    "version": 3
   },
   "file_extension": ".py",
   "mimetype": "text/x-python",
   "name": "python",
   "nbconvert_exporter": "python",
   "pygments_lexer": "ipython3",
   "version": "3.7.3"
  }
 },
 "nbformat": 4,
 "nbformat_minor": 2
}
