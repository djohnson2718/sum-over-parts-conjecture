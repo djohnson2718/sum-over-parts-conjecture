{
 "cells": [
  {
   "cell_type": "code",
   "execution_count": 3,
   "metadata": {},
   "outputs": [],
   "source": [
    "var(\"t,q,t1,t2,X\")\n",
    "R.<z> = PowerSeriesRing(SR)\n",
    "def S(order, beta):\n",
    "    return sum((\n",
    "        z^n*sum(( \n",
    "                prod((beta.subs({x: t^mu.leg_length(*c) * q^mu.arm_length(*c)}) for c in mu.cells()))/\n",
    "                prod((\n",
    "                    (q^mu.arm_length(*c) - t^(mu.leg_length(*c)+1))*(t^mu.leg_length(*c)-q^(mu.arm_length(*c)+1))\n",
    "                for c in mu.cells()))\n",
    "            for mu in Partitions(n)))\n",
    "    for n in range(order+1))).add_bigoh(order+1)"
   ]
  },
  {
   "cell_type": "code",
   "execution_count": 4,
   "metadata": {},
   "outputs": [
    {
     "data": {
      "text/plain": [
       "1 + (1/((q - 1)*(t - 1)))*z + (-q/((q^2 - 1)*(q - t)*(q - 1)*(t - 1)) + t/((t^2 - 1)*(q - t)*(q - 1)*(t - 1)))*z^2 + (q^3/((q^3 - 1)*(q^2 - t)*(q^2 - 1)*(q - t)*(q - 1)*(t - 1)) - t^3/((t^3 - 1)*(t^2 - q)*(t^2 - 1)*(q - t)*(q - 1)*(t - 1)) + q*t/((q^2 - t)*(t^2 - q)*(q - 1)^2*(t - 1)^2))*z^3 + (-q^6/((q^4 - 1)*(q^3 - t)*(q^3 - 1)*(q^2 - t)*(q^2 - 1)*(q - t)*(q - 1)*(t - 1)) + t^6/((t^4 - 1)*(t^3 - q)*(t^3 - 1)*(t^2 - q)*(t^2 - 1)*(q - t)*(q - 1)*(t - 1)) + q^3*t/((q^3 - t)*(q^2 - t^2)*(q^2 - 1)*(q - t)*(q - 1)^2*(t - 1)^2) - q^2*t^2/((q^2 - t)*(q^2 - 1)*(t^2 - q)*(t^2 - 1)*(q - t)^2*(q - 1)*(t - 1)) + q*t^3/((t^3 - q)*(q^2 - t^2)*(t^2 - 1)*(q - t)*(q - 1)^2*(t - 1)^2))*z^4 + O(z^5)"
      ]
     },
     "execution_count": 4,
     "metadata": {},
     "output_type": "execute_result"
    }
   ],
   "source": [
    "S(4,x)"
   ]
  },
  {
   "cell_type": "code",
   "execution_count": 5,
   "metadata": {},
   "outputs": [
    {
     "data": {
      "text/plain": [
       "1 + (1/((q - 1)*(t - 1)))*z + (-1/((q^2 - 1)*(q - t)*(q - 1)*(t - 1)) + 1/((t^2 - 1)*(q - t)*(q - 1)*(t - 1)))*z^2 + (1/((q^2 - t)*(t^2 - q)*(q - 1)^2*(t - 1)^2) + 1/((q^3 - 1)*(q^2 - t)*(q^2 - 1)*(q - t)*(q - 1)*(t - 1)) - 1/((t^3 - 1)*(t^2 - q)*(t^2 - 1)*(q - t)*(q - 1)*(t - 1)))*z^3 + (1/((q^3 - t)*(q^2 - t^2)*(q^2 - 1)*(q - t)*(q - 1)^2*(t - 1)^2) + 1/((t^3 - q)*(q^2 - t^2)*(t^2 - 1)*(q - t)*(q - 1)^2*(t - 1)^2) - 1/((q^2 - t)*(q^2 - 1)*(t^2 - q)*(t^2 - 1)*(q - t)^2*(q - 1)*(t - 1)) - 1/((q^4 - 1)*(q^3 - t)*(q^3 - 1)*(q^2 - t)*(q^2 - 1)*(q - t)*(q - 1)*(t - 1)) + 1/((t^4 - 1)*(t^3 - q)*(t^3 - 1)*(t^2 - q)*(t^2 - 1)*(q - t)*(q - 1)*(t - 1)))*z^4 + O(z^5)"
      ]
     },
     "execution_count": 5,
     "metadata": {},
     "output_type": "execute_result"
    }
   ],
   "source": [
    "S(4,1)"
   ]
  },
  {
   "cell_type": "code",
   "execution_count": 9,
   "metadata": {},
   "outputs": [
    {
     "data": {
      "text/plain": [
       "O(z^5)"
      ]
     },
     "execution_count": 9,
     "metadata": {},
     "output_type": "execute_result"
    }
   ],
   "source": [
    "(S(4,x^2)-S(4,1)).map_coefficients(lambda c:c.simplify_full())"
   ]
  },
  {
   "cell_type": "code",
   "execution_count": null,
   "metadata": {},
   "outputs": [],
   "source": []
  }
 ],
 "metadata": {
  "kernelspec": {
   "display_name": "SageMath 9.1",
   "language": "sage",
   "name": "sagemath"
  },
  "language_info": {
   "codemirror_mode": {
    "name": "ipython",
    "version": 3
   },
   "file_extension": ".py",
   "mimetype": "text/x-python",
   "name": "python",
   "nbconvert_exporter": "python",
   "pygments_lexer": "ipython3",
   "version": "3.7.3"
  }
 },
 "nbformat": 4,
 "nbformat_minor": 2
}
